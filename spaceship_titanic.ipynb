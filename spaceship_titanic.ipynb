{
 "cells": [
  {
   "cell_type": "markdown",
   "id": "baffcfbf",
   "metadata": {},
   "source": [
    "# Spaceship titanic project\n",
    "\n",
    "Welcome to the year 2912, where your data science skills are needed to solve a cosmic mystery. We've received a transmission from four lightyears away and things aren't looking good.\n",
    "\n",
    "The Spaceship Titanic was an interstellar passenger liner launched a month ago. With almost 13,000 passengers on board, the vessel set out on its maiden voyage transporting emigrants from our solar system to three newly habitable exoplanets orbiting nearby stars.\n",
    "\n",
    "While rounding Alpha Centauri en route to its first destination—the torrid 55 Cancri E—the unwary Spaceship Titanic collided with a spacetime anomaly hidden within a dust cloud. Sadly, it met a similar fate as its namesake from 1000 years before. Though the ship stayed intact, almost half of the passengers were transported to an alternate dimension!\n",
    "\n",
    "To help rescue crews and retrieve the lost passengers, you are challenged to predict which passengers were transported by the anomaly using records recovered from the spaceship’s damaged computer system.\n",
    "\n",
    "Help save them and change history!"
   ]
  },
  {
   "cell_type": "markdown",
   "id": "a105a23d",
   "metadata": {},
   "source": [
    "### Import packages and data"
   ]
  },
  {
   "cell_type": "code",
   "execution_count": 1,
   "id": "82b19e54",
   "metadata": {},
   "outputs": [
    {
     "data": {
      "text/html": [
       "<div>\n",
       "<style scoped>\n",
       "    .dataframe tbody tr th:only-of-type {\n",
       "        vertical-align: middle;\n",
       "    }\n",
       "\n",
       "    .dataframe tbody tr th {\n",
       "        vertical-align: top;\n",
       "    }\n",
       "\n",
       "    .dataframe thead th {\n",
       "        text-align: right;\n",
       "    }\n",
       "</style>\n",
       "<table border=\"1\" class=\"dataframe\">\n",
       "  <thead>\n",
       "    <tr style=\"text-align: right;\">\n",
       "      <th></th>\n",
       "      <th>PassengerId</th>\n",
       "      <th>HomePlanet</th>\n",
       "      <th>CryoSleep</th>\n",
       "      <th>Cabin</th>\n",
       "      <th>Destination</th>\n",
       "      <th>Age</th>\n",
       "      <th>VIP</th>\n",
       "      <th>RoomService</th>\n",
       "      <th>FoodCourt</th>\n",
       "      <th>ShoppingMall</th>\n",
       "      <th>Spa</th>\n",
       "      <th>VRDeck</th>\n",
       "      <th>Name</th>\n",
       "      <th>Transported</th>\n",
       "    </tr>\n",
       "  </thead>\n",
       "  <tbody>\n",
       "    <tr>\n",
       "      <th>0</th>\n",
       "      <td>0001_01</td>\n",
       "      <td>Europa</td>\n",
       "      <td>False</td>\n",
       "      <td>B/0/P</td>\n",
       "      <td>TRAPPIST-1e</td>\n",
       "      <td>39.0</td>\n",
       "      <td>False</td>\n",
       "      <td>0.0</td>\n",
       "      <td>0.0</td>\n",
       "      <td>0.0</td>\n",
       "      <td>0.0</td>\n",
       "      <td>0.0</td>\n",
       "      <td>Maham Ofracculy</td>\n",
       "      <td>False</td>\n",
       "    </tr>\n",
       "    <tr>\n",
       "      <th>1</th>\n",
       "      <td>0002_01</td>\n",
       "      <td>Earth</td>\n",
       "      <td>False</td>\n",
       "      <td>F/0/S</td>\n",
       "      <td>TRAPPIST-1e</td>\n",
       "      <td>24.0</td>\n",
       "      <td>False</td>\n",
       "      <td>109.0</td>\n",
       "      <td>9.0</td>\n",
       "      <td>25.0</td>\n",
       "      <td>549.0</td>\n",
       "      <td>44.0</td>\n",
       "      <td>Juanna Vines</td>\n",
       "      <td>True</td>\n",
       "    </tr>\n",
       "    <tr>\n",
       "      <th>2</th>\n",
       "      <td>0003_01</td>\n",
       "      <td>Europa</td>\n",
       "      <td>False</td>\n",
       "      <td>A/0/S</td>\n",
       "      <td>TRAPPIST-1e</td>\n",
       "      <td>58.0</td>\n",
       "      <td>True</td>\n",
       "      <td>43.0</td>\n",
       "      <td>3576.0</td>\n",
       "      <td>0.0</td>\n",
       "      <td>6715.0</td>\n",
       "      <td>49.0</td>\n",
       "      <td>Altark Susent</td>\n",
       "      <td>False</td>\n",
       "    </tr>\n",
       "    <tr>\n",
       "      <th>3</th>\n",
       "      <td>0003_02</td>\n",
       "      <td>Europa</td>\n",
       "      <td>False</td>\n",
       "      <td>A/0/S</td>\n",
       "      <td>TRAPPIST-1e</td>\n",
       "      <td>33.0</td>\n",
       "      <td>False</td>\n",
       "      <td>0.0</td>\n",
       "      <td>1283.0</td>\n",
       "      <td>371.0</td>\n",
       "      <td>3329.0</td>\n",
       "      <td>193.0</td>\n",
       "      <td>Solam Susent</td>\n",
       "      <td>False</td>\n",
       "    </tr>\n",
       "    <tr>\n",
       "      <th>4</th>\n",
       "      <td>0004_01</td>\n",
       "      <td>Earth</td>\n",
       "      <td>False</td>\n",
       "      <td>F/1/S</td>\n",
       "      <td>TRAPPIST-1e</td>\n",
       "      <td>16.0</td>\n",
       "      <td>False</td>\n",
       "      <td>303.0</td>\n",
       "      <td>70.0</td>\n",
       "      <td>151.0</td>\n",
       "      <td>565.0</td>\n",
       "      <td>2.0</td>\n",
       "      <td>Willy Santantines</td>\n",
       "      <td>True</td>\n",
       "    </tr>\n",
       "  </tbody>\n",
       "</table>\n",
       "</div>"
      ],
      "text/plain": [
       "  PassengerId HomePlanet CryoSleep  Cabin  Destination   Age    VIP  \\\n",
       "0     0001_01     Europa     False  B/0/P  TRAPPIST-1e  39.0  False   \n",
       "1     0002_01      Earth     False  F/0/S  TRAPPIST-1e  24.0  False   \n",
       "2     0003_01     Europa     False  A/0/S  TRAPPIST-1e  58.0   True   \n",
       "3     0003_02     Europa     False  A/0/S  TRAPPIST-1e  33.0  False   \n",
       "4     0004_01      Earth     False  F/1/S  TRAPPIST-1e  16.0  False   \n",
       "\n",
       "   RoomService  FoodCourt  ShoppingMall     Spa  VRDeck               Name  \\\n",
       "0          0.0        0.0           0.0     0.0     0.0    Maham Ofracculy   \n",
       "1        109.0        9.0          25.0   549.0    44.0       Juanna Vines   \n",
       "2         43.0     3576.0           0.0  6715.0    49.0      Altark Susent   \n",
       "3          0.0     1283.0         371.0  3329.0   193.0       Solam Susent   \n",
       "4        303.0       70.0         151.0   565.0     2.0  Willy Santantines   \n",
       "\n",
       "   Transported  \n",
       "0        False  \n",
       "1         True  \n",
       "2        False  \n",
       "3        False  \n",
       "4         True  "
      ]
     },
     "execution_count": 1,
     "metadata": {},
     "output_type": "execute_result"
    }
   ],
   "source": [
    "from matplotlib import pyplot as plt\n",
    "import numpy as np\n",
    "import pandas as pd\n",
    "import seaborn as sns\n",
    "from sklearn.model_selection import train_test_split\n",
    "from sklearn.metrics import classification_report\n",
    "\n",
    "data = pd.read_csv('train.csv')\n",
    "data.head()"
   ]
  },
  {
   "cell_type": "markdown",
   "id": "54aa75af",
   "metadata": {},
   "source": [
    "### Data cleaning"
   ]
  },
  {
   "cell_type": "code",
   "execution_count": 2,
   "id": "0abbde9e",
   "metadata": {},
   "outputs": [
    {
     "data": {
      "text/plain": [
       "PassengerId     0\n",
       "HomePlanet      0\n",
       "CryoSleep       0\n",
       "Destination     0\n",
       "Age             0\n",
       "VIP             0\n",
       "RoomService     0\n",
       "FoodCourt       0\n",
       "ShoppingMall    0\n",
       "Spa             0\n",
       "VRDeck          0\n",
       "Name            0\n",
       "Transported     0\n",
       "Cabin_deck      0\n",
       "Cabin_side      0\n",
       "dtype: int64"
      ]
     },
     "execution_count": 2,
     "metadata": {},
     "output_type": "execute_result"
    }
   ],
   "source": [
    "def data_clean(data):\n",
    "#   Name is unimportant for model building so we will fill it with unknown\n",
    "    data['Name'] = data['Name'].fillna('Unknown') \n",
    "    # Cabins: 5305 unique values; 80% of the entered values are unique\n",
    "    # They are divided by deck and by side\n",
    "    data['Cabin_deck']=data['Cabin'].str.split('/').str.get(0)\n",
    "    data['Cabin_side']=data['Cabin'].str.split('/').str.get(-1)\n",
    "    data.drop(['Cabin'],axis=1,inplace=True)\n",
    "    \n",
    "#   HomePlanet, Cabin, Destination when NaN can be filled with information from fellow passenger (if any)\n",
    "#   ---> code here\n",
    "\n",
    "#   When filling NaN with fellow passengers does not work, fill NaN with mode of the column\n",
    "    fill_mode_cols = ['HomePlanet','CryoSleep','Cabin_deck','Cabin_side','Destination','Age','VIP']\n",
    "    for col in fill_mode_cols:\n",
    "        data[col] = data[col].fillna(data[col].mode()[0])\n",
    "        \n",
    "#   Expenses will be filled with 0 if passenger is in CryoSleep, otherwise will be filled with mean value of column\n",
    "    price_mean_cols = ['RoomService','FoodCourt','ShoppingMall','Spa','VRDeck']\n",
    "        \n",
    "    for col in price_mean_cols:\n",
    "        data[col] = np.where((data['CryoSleep'] == True) & (data[col].isnull()), 0, data[col])\n",
    "        data[col] = np.where((data['CryoSleep'] == False) & (data[col].isnull()), data[col].mean(), data[col])\n",
    "\n",
    "# Call function on dataset\n",
    "data_clean(data)\n",
    "# Confirm that NaN values are 0\n",
    "data.isna().sum()\n"
   ]
  },
  {
   "cell_type": "markdown",
   "id": "b02bf51b",
   "metadata": {},
   "source": [
    "**train.csv** - Personal records for about two-thirds (~8700) of the passengers, to be used as training data.\n",
    "\n",
    "**PassengerId** - A unique Id for each passenger. Each Id takes the form gggg_pp where gggg indicates a group the passenger is travelling with and pp is their number within the group. People in a group are often family members, but not always.\n",
    "\n",
    "**HomePlanet** - The planet the passenger departed from, typically their planet of permanent residence.\n",
    "\n",
    "**CryoSleep** - Indicates whether the passenger elected to be put into suspended animation for the duration of the voyage. Passengers in cryosleep are confined to their cabins.\n",
    "\n",
    "**Cabin** - The cabin number where the passenger is staying. Takes the form deck/num/side, where side can be either P for Port or S for Starboard.\n",
    "\n",
    "**Destination** - The planet the passenger will be debarking to.\n",
    "\n",
    "**Age** - The age of the passenger.\n",
    "\n",
    "**VIP** - Whether the passenger has paid for special VIP service during the voyage.\n",
    "\n",
    "**RoomService, FoodCourt, ShoppingMall, Spa, VRDeck** - Amount the passenger has billed at each of the Spaceship Titanic's many luxury amenities.\n",
    "\n",
    "**Name** - The first and last names of the passenger.\n",
    "\n",
    "**Transported**- Whether the passenger was transported to another dimension. This is the target, the column you are trying to predict."
   ]
  },
  {
   "cell_type": "markdown",
   "id": "8a74f8d0",
   "metadata": {},
   "source": [
    "### Exploratory data analysis"
   ]
  },
  {
   "cell_type": "code",
   "execution_count": 3,
   "id": "fecf1f51",
   "metadata": {
    "scrolled": false
   },
   "outputs": [
    {
     "data": {
      "image/png": "[encoded data removed]",
      "text/plain": [
       "<Figure size 864x864 with 6 Axes>"
      ]
     },
     "metadata": {
      "needs_background": "light"
     },
     "output_type": "display_data"
    }
   ],
   "source": [
    "# Transported people is roughly 50-50\n",
    "plt.figure(figsize=(12,12))\n",
    "\n",
    "plt.subplot(3,3,1)\n",
    "sns.countplot(data=data,x='Transported')\n",
    "plt.title('Distribution of transported people')\n",
    "# Distribution of HomePlanet\n",
    "plt.subplot(3,3,2)\n",
    "sns.countplot(data=data,x='HomePlanet',hue='Transported')\n",
    "plt.title('Distribution of HomePlanet')\n",
    "# Distribution of CryoSleep\n",
    "plt.subplot(3,3,3)\n",
    "sns.countplot(data=data,x='CryoSleep',hue='Transported')\n",
    "plt.title('Distribution of people in CryoSleep')\n",
    "# Distribution of P vs S cabin \n",
    "plt.subplot(3,3,4)\n",
    "sns.countplot(data=data,x='Cabin_side',hue='Transported')\n",
    "plt.title('Distribution of Cabin side')\n",
    "# Distribution of Destination\n",
    "plt.subplot(3,3,5)\n",
    "sns.countplot(data=data,x='Destination',hue='Transported')\n",
    "plt.title('Distribution of Destination')\n",
    "# Distribution of VIP people\n",
    "plt.subplot(3,3,6)\n",
    "sns.countplot(data=data,x='VIP',hue='Transported')\n",
    "plt.title('Distribution of VIP people')\n",
    "\n",
    "plt.subplots_adjust(hspace = 0.4, wspace=0.3)\n",
    "plt.show()"
   ]
  },
  {
   "cell_type": "code",
   "execution_count": 4,
   "id": "25687aa6",
   "metadata": {},
   "outputs": [
    {
     "data": {
      "image/png": "[encoded data removed]",
      "text/plain": [
       "<Figure size 720x360 with 2 Axes>"
      ]
     },
     "metadata": {
      "needs_background": "light"
     },
     "output_type": "display_data"
    }
   ],
   "source": [
    "# Cutting the RoomService, FoodCourt, ShoppingMall, Spa, VRDeck into bins, so that it is possible to use them\n",
    "# in the models\n",
    "def bin_price_cols(data):\n",
    "    cols = ['RoomService','FoodCourt','ShoppingMall','Spa','VRDeck']\n",
    "    binned_cols_names = ['room_service_binned','food_court_binned','shopping_binned','spa_binned','VR_binned']\n",
    "\n",
    "    bins = [0, 50, 200, 500, 1500,20000]\n",
    "    labels = ['0-50', '51-200', '201-500', '501-1500','1501-20000']\n",
    "    for i in range(0,len(cols)):\n",
    "        data[binned_cols_names[i]] = pd.cut(data[cols[i]], bins=bins, labels=labels, right=False)\n",
    "\n",
    "# Calling the function\n",
    "bin_price_cols(data)\n",
    "    \n",
    "# Cutting the age in bins as well\n",
    "def bin_age_cols(data):\n",
    "    bins = [0, 20, 40, 60, 100]\n",
    "    labels = ['0-20', '21-40', '41-60', '61-100']\n",
    "    data['age_binned'] = pd.cut(data['Age'], bins=bins, labels=labels, right=False)\n",
    "\n",
    "# Calling the function\n",
    "bin_age_cols(data)\n",
    "\n",
    "# Plotting distribution of room service and age\n",
    "plt.figure(figsize=(10,5))\n",
    "plt.subplot(1,2,1)\n",
    "sns.countplot(data=data,x='room_service_binned',hue='Transported')\n",
    "plt.title('Distribution of Room Service spent')\n",
    "\n",
    "plt.subplot(1,2,2)\n",
    "sns.countplot(data=data,x='age_binned',hue='Transported')\n",
    "plt.title('Distribution of ages')\n",
    "\n",
    "plt.show()"
   ]
  },
  {
   "cell_type": "markdown",
   "id": "10427454",
   "metadata": {},
   "source": [
    "There are some interesting correlations. These columns will definitely be important in the model.\n",
    "\n",
    "**Transported** Transported people are roughly 50% of the passengers.\n",
    "\n",
    "**HomePlanet** Passengers from Europa were transported more often. For Mars, distribution is 50-50, whereas passengers from Earthers were more likely not to be transported.\n",
    "\n",
    "**CryoSleep** People that were in Cryo sleep were much more likely to be transported than people who weren't.\n",
    "\n",
    "**Port vs Seabord** Passengers in the S cabin were more likely to be transported. \n",
    "\n",
    "**Destination** Passengers going to 55 Cancri E were more likely to be transported. For the other 2 destinations, distribution was 50-50. \n",
    "\n",
    "**VIP** VIP people were quite few. In the VIP category, the majority was non-transported (by little). In the non-VIP, the majority was transported. Data is too little to be significant.\n",
    "\n",
    "Money spent in **room service** or other services seem to correlate to whether or not passengers were transported. For example, people who spent between 0-200 in these services seem to be transported more often than not. Binning the dataframe will be useful because now the binned room service, SPA, etc. can be encoded and used in the models."
   ]
  },
  {
   "cell_type": "markdown",
   "id": "3417e389",
   "metadata": {},
   "source": [
    "### Encoding variables for models"
   ]
  },
  {
   "cell_type": "code",
   "execution_count": 5,
   "id": "16672a2d",
   "metadata": {},
   "outputs": [],
   "source": [
    "feature_cols = ['HomePlanet','CryoSleep','Cabin_deck','Cabin_side','Destination','VIP','age_binned',\n",
    "                'room_service_binned','food_court_binned','shopping_binned','spa_binned','VR_binned']\n",
    "features_train = data[feature_cols]\n",
    "features_train = pd.get_dummies(features_train)\n",
    "\n",
    "labels_train = data['Transported']\n",
    "\n",
    "# Perform a train test split\n",
    "X_train, X_test, y_train, y_test = train_test_split(features_train,labels_train,test_size=0.2,random_state=42)"
   ]
  },
  {
   "cell_type": "markdown",
   "id": "76db49c0",
   "metadata": {},
   "source": [
    "### Getting the test dataset"
   ]
  },
  {
   "cell_type": "code",
   "execution_count": 6,
   "id": "f6c4fe51",
   "metadata": {},
   "outputs": [],
   "source": [
    "# In this section, we re-do all the same procedures that we've done for training set, but \n",
    "# for the test.csv file\n",
    "\n",
    "test_data = pd.read_csv('test.csv')\n",
    "# Cleaning data with data_clean function\n",
    "data_clean(test_data)\n",
    "# Binning the data for price columns\n",
    "bin_price_cols(test_data)\n",
    "# Binning the ages \n",
    "bin_age_cols(test_data)\n",
    "\n",
    "features_test = test_data[feature_cols]\n",
    "features_test = pd.get_dummies(features_test)"
   ]
  },
  {
   "cell_type": "markdown",
   "id": "a19ef5aa",
   "metadata": {},
   "source": [
    "## ML models"
   ]
  },
  {
   "cell_type": "markdown",
   "id": "be28eba2",
   "metadata": {},
   "source": [
    "### KNN Model "
   ]
  },
  {
   "cell_type": "code",
   "execution_count": 7,
   "id": "ae32db07",
   "metadata": {},
   "outputs": [
    {
     "data": {
      "image/png": "[encoded data removed]",
      "text/plain": [
       "<Figure size 432x288 with 1 Axes>"
      ]
     },
     "metadata": {
      "needs_background": "light"
     },
     "output_type": "display_data"
    },
    {
     "name": "stdout",
     "output_type": "stream",
     "text": [
      "Max KNN score on test set:\n",
      "0.7791834387579069\n"
     ]
    }
   ],
   "source": [
    "from sklearn.neighbors import KNeighborsClassifier\n",
    "\n",
    "# Optimize neighbors number in KNN model\n",
    "knn_scores_train = []\n",
    "knn_scores_test = []\n",
    "for n in range(1,20):\n",
    "    knn = KNeighborsClassifier(n_neighbors=n).fit(X_train,y_train)\n",
    "    knn_scores_train.append(knn.score(X_train,y_train))\n",
    "    knn_scores_test.append(knn.score(X_test,y_test))\n",
    "\n",
    "plt.figure(1)\n",
    "plt.plot(knn_scores_train)\n",
    "plt.plot(knn_scores_test)\n",
    "plt.xlabel('Number of neighbors')\n",
    "plt.ylabel('KNN Score')\n",
    "plt.legend(['Training set','Test set'])\n",
    "plt.show()\n",
    "\n",
    "print('Max KNN score on test set:')\n",
    "print(max(knn_scores_test))"
   ]
  },
  {
   "cell_type": "markdown",
   "id": "892cf6b5",
   "metadata": {},
   "source": [
    "### Random Forest Classifier"
   ]
  },
  {
   "cell_type": "code",
   "execution_count": 8,
   "id": "e55edb76",
   "metadata": {},
   "outputs": [],
   "source": [
    "from sklearn.ensemble import RandomForestClassifier\n",
    "from sklearn.model_selection import GridSearchCV\n",
    "\n",
    "# Hyperparameter tuning with GridSearchCV\n",
    "parameters = {'n_estimators':np.linspace(10,200,20,dtype=int),'max_depth':range(1,20)}\n",
    "rfc = GridSearchCV(RandomForestClassifier(),parameters).fit(X_train,y_train)"
   ]
  },
  {
   "cell_type": "code",
   "execution_count": 9,
   "id": "07413a32",
   "metadata": {
    "scrolled": false
   },
   "outputs": [
    {
     "data": {
      "image/png": "[encoded data removed]",
      "text/plain": [
       "<Figure size 432x288 with 2 Axes>"
      ]
     },
     "metadata": {
      "needs_background": "light"
     },
     "output_type": "display_data"
    },
    {
     "name": "stdout",
     "output_type": "stream",
     "text": [
      "RandomForestClassifier(max_depth=12)\n",
      "RFC Score on test set:\n",
      "0.7855089131684876\n"
     ]
    }
   ],
   "source": [
    "# Evaluating results from GridSearchCV\n",
    "# Evaluating table of scores\n",
    "df = pd.concat([pd.DataFrame(rfc.cv_results_['params']), pd.DataFrame(rfc.cv_results_['mean_test_score'], columns=['Accuracy'])], axis=1)\n",
    "rfc_table = df.pivot(index = 'n_estimators', columns = 'max_depth')\n",
    "sns.heatmap(rfc_table)\n",
    "plt.title('RFC Score for each n_estimators and max_depth set')\n",
    "plt.show()\n",
    "\n",
    "# Printing best set of parameters\n",
    "print(rfc.best_estimator_)\n",
    "\n",
    "# Evaluating score on test set\n",
    "print('RFC Score on test set:')\n",
    "print(rfc.score(X_test,y_test))"
   ]
  },
  {
   "cell_type": "markdown",
   "id": "e86898f0",
   "metadata": {},
   "source": [
    "## Predictions for submission"
   ]
  },
  {
   "cell_type": "code",
   "execution_count": 12,
   "id": "e9b0832a",
   "metadata": {},
   "outputs": [],
   "source": [
    "rfc = RandomForestClassifier(n_estimators = 160, max_depth = 12).fit(X_train,y_train)\n",
    "\n",
    "test_df = pd.DataFrame()\n",
    "test_df['PassengerId'] = test_data['PassengerId']\n",
    "test_df['Transported'] = rfc.predict(features_test)\n",
    "\n",
    "test_df.to_csv(r'submission.csv', index=False, header=[\"PassengerId\", \"Transported\"])"
   ]
  }
 ],
 "metadata": {
  "kernelspec": {
   "display_name": "Python 3 (ipykernel)",
   "language": "python",
   "name": "python3"
  },
  "language_info": {
   "codemirror_mode": {
    "name": "ipython",
    "version": 3
   },
   "file_extension": ".py",
   "mimetype": "text/x-python",
   "name": "python",
   "nbconvert_exporter": "python",
   "pygments_lexer": "ipython3",
   "version": "3.9.12"
  }
 },
 "nbformat": 4,
 "nbformat_minor": 5
}
